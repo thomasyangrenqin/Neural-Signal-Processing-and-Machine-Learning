{
 "cells": [
  {
   "cell_type": "code",
   "execution_count": 22,
   "metadata": {
    "collapsed": false
   },
   "outputs": [
    {
     "name": "stderr",
     "output_type": "stream",
     "text": [
      "/Users/yangrenqin/anaconda/envs/py35/lib/python3.5/site-packages/ipykernel/__main__.py:100: VisibleDeprecationWarning: using a non-integer number instead of an integer will result in an error in the future\n"
     ]
    },
    {
     "name": "stdout",
     "output_type": "stream",
     "text": [
      "[  1.   1.  13.  14.  15.  16.  17.  18.  18.  19.  20.  20.  21.  21.  22.\n",
      "  22.  23.  23.  23.  24.]\n"
     ]
    },
    {
     "data": {
      "text/plain": [
       "<matplotlib.text.Text at 0x11e625160>"
      ]
     },
     "execution_count": 22,
     "metadata": {},
     "output_type": "execute_result"
    },
    {
     "data": {
      "image/png": "[encoded data removed]",
      "text/plain": [
       "<matplotlib.figure.Figure at 0x11e60f128>"
      ]
     },
     "metadata": {},
     "output_type": "display_data"
    },
    {
     "data": {
      "image/png": "[encoded data removed]",
      "text/plain": [
       "<matplotlib.figure.Figure at 0x10d8d2278>"
      ]
     },
     "metadata": {},
     "output_type": "display_data"
    }
   ],
   "source": [
    "import numpy as np\n",
    "import matplotlib.pyplot as plt\n",
    "\n",
    "def hh(I, dt):\n",
    "    ##########################################################################\n",
    "    # Simulate the membrane potential of a Hodgkin Huxley neuron with \n",
    "    #   a given input current\n",
    "    # Input:\n",
    "    #    I = current in uA/mm^2a\n",
    "    #    dt = time step between I measurments [ms]\n",
    "    #\n",
    "    # Output:\n",
    "    #    Vm = membrane voltage in mV\n",
    "    #    n = sodium activation\n",
    "    #    m = potassium activation\n",
    "    #    h = 1 - potassium inactivation\n",
    "    \n",
    "    # This function simulates a dynamical system with state variables\n",
    "    #    DV = 1/C (I - Ik - Ina - Il)\n",
    "    #    Il = gl(V-El)\n",
    "    #    Ik = gk*n^4(V-Ek)\n",
    "    #    Ina = gna*m^3*h(V-Ena)\n",
    "    #    Dn = (ninf(V) - n)/taun(V) (same for m, h )\n",
    "\n",
    "    # Summary of units: I = uA / mm^2; V = mV; g = mS; g*V = uA; C = uF; uA/uC*ms = mV\n",
    "\n",
    "    ##########################################################################\n",
    "    # Constants:\n",
    "    # Reversal potentials for various ions\n",
    "    Ek = -77 #[mV]\n",
    "    Ena = 50 #[mV]\n",
    "    El = -54.402 #[mV]\n",
    "\n",
    "    # Membrane capacitance: \n",
    "    C = 0.01 #[uF/mm^2]\n",
    "    \n",
    "    # Maximum conductances [mS/mm^2]\n",
    "    gna = 1.2\n",
    "    gk = 0.36\n",
    "    gl = 0.003\n",
    "\n",
    "    ##########################################################################\n",
    "    # Gating variables:\n",
    "    # activation K [n]\n",
    "    alpha_n = lambda V: 0.01*(V + 55) / (1 - np.exp(-0.1*(V + 55)))\n",
    "    beta_n = lambda V: 0.125 * np.exp(-0.0125*(V + 65))\n",
    "    tau_n = lambda V: 1 /(alpha_n(V) + beta_n(V))\n",
    "    n_inf = lambda V: alpha_n(V) * tau_n(V)\n",
    "    # activation Na [m]\n",
    "    alpha_m = lambda V: 0.1*(V + 40) / (1 - np.exp(-0.1*(V + 40)))\n",
    "    beta_m = lambda V: 4 * np.exp(-0.0556*(V + 65))\n",
    "    tau_m = lambda V: 1/(alpha_m(V) + beta_m(V))\n",
    "    m_inf = lambda V: alpha_m(V) * tau_m(V)\n",
    "    # inactivation Na [h]\n",
    "    alpha_h = lambda V: 0.07*np.exp(-0.05*(V + 65))\n",
    "    beta_h = lambda V:  1 /(1 + np.exp(-0.1*(V + 35)))\n",
    "    tau_h = lambda V: 1/(alpha_h(V) + beta_h(V))\n",
    "    h_inf = lambda V: alpha_h(V) * tau_h(V);\n",
    "    \n",
    "    # Initializations\n",
    "    n = np.zeros(len(I)); m = np.zeros(len(I)); h = np.zeros(len(I)); V = np.zeros(len(I))\n",
    " \n",
    "    # Set initial conditions:\n",
    "    Vstart = -65 #[mV] (starting membrane potential) \n",
    "    V[0] = Vstart #[mV]\n",
    "    n[0] = n_inf(Vstart); m[0] = m_inf(Vstart); h[0] = h_inf(Vstart);\n",
    "    \n",
    "    ##########################################################################\n",
    "    # Simulation: iteratatively update the variables using the forward Euler method\n",
    "    for ii in range(len(I)-1):\n",
    "        # Update activation state variables\n",
    "        n[ii+1] = n[ii] + dt*(n_inf(V[ii]) - n[ii])/tau_n(V[ii])\n",
    "        m[ii+1] = m[ii] + dt*(m_inf(V[ii]) - m[ii])/tau_m(V[ii])\n",
    "        h[ii+1] = h[ii] + dt*(h_inf(V[ii]) - h[ii])/tau_h(V[ii])\n",
    "        V[ii+1] = V[ii] + dt/C*(I[ii] - gl*(V[ii]-El) - gk*n[ii]**4 *(V[ii]-Ek) - gna*m[ii]**3*h[ii]*(V[ii]-Ena));\n",
    "\n",
    "    return V, m, n, h\n",
    "\n",
    "def get_aps(V):\n",
    "    V_ap=[]\n",
    "    for i in range(len(V)-1):\n",
    "        if V[i]>0:\n",
    "            V_ap.append(V[i])\n",
    "    ap=0\n",
    "    for i in range(len(V_ap)-1):\n",
    "        if V_ap[i+1]-V_ap[i]>=0 and V_ap[i+2]-V_ap[i+1]<=0:\n",
    "            ap +=1\n",
    "    return ap\n",
    "\n",
    "input_I = np.arange(0.025,0.525,0.025)\n",
    "dt=0.01\n",
    "I = np.zeros(int(10000/dt))\n",
    "for i in range (20):\n",
    "    I[int((i*500+200)/dt):int((i*500+400)/dt)]=input_I[i]\n",
    "\n",
    "\n",
    "V,m,m,h = hh(I,dt)\n",
    "ap_numbers=np.zeros(20)\n",
    "for i in range(20):\n",
    "    ap_numbers[i]=get_aps(V[int((i*500))/dt:int((i*500+499)/dt)])\n",
    "print(ap_numbers)\n",
    "%matplotlib inline\n",
    "fig, ax1 = plt.subplots()\n",
    "t = np.arange(0, 10, dt / 1000)\n",
    "ax1.plot(t, V, 'b-')\n",
    "ax1.set_xlabel('time (s)')\n",
    "ax1.set_ylabel(r'$V_{m}$', color='b')\n",
    "ax1.set_ylim([-100, 60])\n",
    "ax2 = ax1.twinx()\n",
    "ax2.plot(t, I, 'r-')\n",
    "ax2.set_ylim([-0.5, 5])\n",
    "ax2.set_ylabel(r'$I_{in}$', color='r')\n",
    "\n",
    "fig, ax3 = plt.subplots()\n",
    "ax3.plot(input_I,ap_numbers,'y')\n",
    "ax3.set_xlabel('depolarizations level (uA/mm2)')\n",
    "ax3.set_ylabel('spike numbers of each level')"
   ]
  }
 ],
 "metadata": {
  "kernelspec": {
   "display_name": "Python [py35]",
   "language": "python",
   "name": "Python [py35]"
  },
  "language_info": {
   "codemirror_mode": {
    "name": "ipython",
    "version": 3
   },
   "file_extension": ".py",
   "mimetype": "text/x-python",
   "name": "python",
   "nbconvert_exporter": "python",
   "pygments_lexer": "ipython3",
   "version": "3.5.2"
  }
 },
 "nbformat": 4,
 "nbformat_minor": 0
}
