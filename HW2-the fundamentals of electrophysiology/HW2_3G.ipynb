{
 "cells": [
  {
   "cell_type": "code",
   "execution_count": 1,
   "metadata": {
    "collapsed": false
   },
   "outputs": [
    {
     "name": "stdout",
     "output_type": "stream",
     "text": [
      "[0, 0, 0, 0, 0, 0, 0, 0, 0, 0, 0, 0, 0, 0, 0, 0, 0, 0, 0, 0, 0, 0, 0, 0, 0, 0, 0, 0, 0, 0, 0, 0, 0, 0, 0, 0, 0, 0, 0, 0, 0, 0, 0, 0, 0, 0, 0, 0, 0, 0, 0, 0, 0, 0, 0, 16, 16, 16, 16, 16, 16, 16, 16, 16, 16, 16, 16, 16, 16, 16, 16, 16, 16, 16, 16, 16, 16, 16, 16, 16, 45, 45, 45, 45, 45, 45, 45, 45, 45, 45, 45, 45, 45, 45, 45, 45, 45, 45, 45, 45, 45, 45, 45, 45, 45, 65, 65, 65, 65, 65, 65, 65, 65, 65, 65, 65, 65, 65, 65, 65, 65, 65, 65, 65, 65, 65, 65, 65, 65, 65, 0, 0, 0, 0, 0, 0, 0, 0, 0, 0, 0, 0, 0, 0, 0, 0, 0, 0, 0, 0, 0, 0, 0, 0, 0, 0, 0, 0, 0, 0, 0, 0, 0, 0, 0, 0, 0, 0, 0, 0, 0, 0, 0, 0, 0, 0, 0, 0, 0, 0, 16, 16, 16, 16, 16, 16, 16, 16, 16, 16, 16, 16, 16, 16, 16, 16, 16, 16, 16, 16, 16, 17, 16, 16, 16, 45, 45, 44, 45, 45, 45, 45, 45, 45, 45, 45, 45, 45, 45, 45, 45, 45, 45, 45, 45, 45, 45, 45, 45, 45, 66, 65, 65, 65, 65, 65, 65, 65, 65, 65, 65, 65, 65, 65, 65, 65, 65, 65, 65, 65, 65, 65, 66, 65, 65, 0, 0, 0, 0, 0, 0, 0, 0, 0, 0, 0, 0, 0, 0, 0, 0, 0, 0, 0, 0, 0, 0, 0, 0, 0, 0, 0, 0, 0, 0, 0, 0, 0, 0, 0, 0, 0, 0, 0, 0, 0, 0, 0, 0, 0, 0, 0, 0, 0, 0, 16, 16, 17, 16, 16, 16, 16, 16, 17, 17, 16, 16, 16, 16, 17, 16, 16, 17, 16, 16, 15, 16, 16, 16, 16, 45, 45, 44, 45, 45, 45, 44, 44, 45, 44, 44, 45, 44, 45, 45, 45, 45, 45, 45, 45, 45, 45, 45, 45, 45, 66, 66, 65, 65, 65, 65, 65, 65, 65, 66, 66, 65, 66, 65, 65, 65, 65, 66, 66, 65, 66, 65, 65, 65, 66]\n",
      "380\n",
      "[  0.          24.23076923  24.71372549  24.89210526]\n"
     ]
    },
    {
     "data": {
      "text/plain": [
       "<matplotlib.text.Text at 0x10ce93c88>"
      ]
     },
     "execution_count": 1,
     "metadata": {},
     "output_type": "execute_result"
    },
    {
     "data": {
      "image/png": "[encoded data removed]",
      "text/plain": [
       "<matplotlib.figure.Figure at 0x104132940>"
      ]
     },
     "metadata": {},
     "output_type": "display_data"
    }
   ],
   "source": [
    "import numpy as np\n",
    "import matplotlib.pyplot as plt\n",
    "\n",
    "def CST(I, dt):\n",
    "    ##########################################################################\n",
    "    # Simulate the membrane potential of a CST neuron with \n",
    "    #   a given input current\n",
    "    # Input:\n",
    "    #    I = current in uA/mm^2a\n",
    "    #    dt = time step between I measurments [ms]\n",
    "    #\n",
    "    # Output:\n",
    "    #    Vm = membrane voltage in mV\n",
    "    #    n = sodium activation\n",
    "    #    m = potassium activation\n",
    "    #    h = 1 - potassium inactivation\n",
    "    \n",
    "    # This function simulates a dynamical system with state variables\n",
    "    #    DV = 1/C (I - Ik - Ina - Il)\n",
    "    #    Il = gl(V-El)\n",
    "    #    Ik = gk*n^4(V-Ek)\n",
    "    #    Ina = gna*m^3*h(V-Ena)\n",
    "    #    IA=gA*a^3*b(V-EA)\n",
    "    #    Dn = (ninf(V) - n)/taun(V) (same for m, h,a,b )\n",
    "\n",
    "    # Summary of units: I = uA / mm^2; V = mV; g = mS; g*V = uA; C = uF; uA/uC*ms = mV\n",
    "\n",
    "    ##########################################################################\n",
    "    # Constants:\n",
    "    # Reversal potentials for various ions\n",
    "    Ek = -72 #[mV]\n",
    "    Ena = 55 #[mV]\n",
    "    El = -17 #[mV]\n",
    "    EA = -75 #[mV] \n",
    "    \n",
    "    # Membrane capacitance: \n",
    "    C = 0.01 #[uF/mm^2]\n",
    "    \n",
    "    # Maximum conductances [mS/mm^2]\n",
    "    gna = 1.2\n",
    "    gk = 0.2\n",
    "    gl = 0.003\n",
    "    gA = 0.477\n",
    "    \n",
    "    ##########################################################################\n",
    "    # Gating variables:\n",
    "    # activation K [n]\n",
    "    alpha_m = lambda V: 0.38*(V + 29.7) / (1 - np.exp(-0.1*(V + 29.7)))\n",
    "    beta_m = lambda V: 15.2 * np.exp(-0.0556*(V + 54.7))\n",
    "    tau_m = lambda V: 1/(alpha_m(V) + beta_m(V))\n",
    "    m_inf = lambda V: alpha_m(V) * tau_m(V)\n",
    "\n",
    "    alpha_h = lambda V: 0.266*np.exp(-0.05*(V + 48))\n",
    "    beta_h = lambda V:  3.8 /(1 + np.exp(-0.1*(V + 18)))\n",
    "    tau_h = lambda V: 1/(alpha_h(V) + beta_h(V))\n",
    "    h_inf = lambda V: alpha_h(V) * tau_h(V);\n",
    "\n",
    "    alpha_n = lambda V: 0.02*(V + 45.7) / (1 - np.exp(-0.1*(V + 45.7)))\n",
    "    beta_n = lambda V: 0.25 * np.exp(-0.0125*(V + 55.7))\n",
    "    tau_n = lambda V: 1 /(alpha_n(V) + beta_n(V))\n",
    "    n_inf = lambda V: alpha_n(V) * tau_n(V)\n",
    "\n",
    "    a_inf = lambda V: ((0.0761*np.exp(0.0314*(V+94.22)))/(1 + np.exp(0.0346*(V+1.17))))**(1/3)\n",
    "    b_inf = lambda V: 1/(1 + np.exp(0.0688*(V+53.3)))**4\n",
    "    tau_a = lambda V: 0.3632 + 1.158/(1 + np.exp(0.0497*(V + 55.96)))\n",
    "    tau_b = lambda V: 1.24 + 2.678/(1 + np.exp(0.0624*(V + 50)))\n",
    "    \n",
    "    # Initializations\n",
    "    n = np.zeros(len(I)); m = np.zeros(len(I)); h = np.zeros(len(I));\n",
    "    a = np.zeros(len(I)); b = np.zeros(len(I));\n",
    "    V = np.zeros(len(I))\n",
    " \n",
    "    # Set initial conditions:\n",
    "    Vstart = -68 #[mV] (starting membrane potential) \n",
    "    V[0] = Vstart #[mV]\n",
    "    n[0] = n_inf(Vstart); m[0] = m_inf(Vstart); h[0] = h_inf(Vstart);\n",
    "    a[0] = a_inf(Vstart); b[0] = b_inf(Vstart);\n",
    "    ##########################################################################\n",
    "    # Simulation: iteratatively update the variables using the forward Euler method\n",
    "    for i in range(len(I)-1):\n",
    "        n[i+1] = n[i] + dt*(n_inf(V[i]) - n[i])/tau_n(V[i])\n",
    "        m[i+1] = m[i] + dt*(m_inf(V[i]) - m[i])/tau_m(V[i])\n",
    "        h[i+1] = h[i] + dt*(h_inf(V[i]) - h[i])/tau_h(V[i])\n",
    "        a[i+1] = a[i] + dt*(a_inf(V[i]) - a[i])/tau_a(V[i])\n",
    "        b[i+1] = b[i] + dt*(b_inf(V[i]) - b[i])/tau_b(V[i])\n",
    "        V[i+1] = V[i] + dt/C*(I[i] - gl*(V[i] - El) - gk*n[i]**4*(V[i] - Ek)-\n",
    "                              gna*m[i]**3*h[i]*(V[i] - Ena) - gA*a[i]**3*b[i]*(V[i] - EA))\n",
    "\n",
    "    return V, m, n, h, a, b\n",
    "def get_aps(V):\n",
    "    V_ap=[]\n",
    "    for i in range(len(V)-1):\n",
    "        if V[i]>0:\n",
    "            V_ap.append(V[i])\n",
    "    ap=0\n",
    "    for i in range(len(V_ap)-1):\n",
    "        if V_ap[i+1]-V_ap[i]>=0 and V_ap[i+2]-V_ap[i+1]<=0:\n",
    "            ap +=1\n",
    "    return ap\n",
    "u=[0,0.05,0.1,0.15,0.2]\n",
    "sigma=[0,0.01,0.05,0.1]\n",
    "\n",
    "spikes=[]\n",
    "mean_spikes=np.zeros(4)\n",
    "dt=0.01\n",
    "I = np.zeros(int(600/dt))\n",
    "for i in range(len(sigma)):\n",
    "    for j in range(len(u)):\n",
    "        if sigma[i]==0:\n",
    "            s_0=0\n",
    "            a = sigma[i]*np.random.randn(50000)+u[j]\n",
    "            d = np.ones(100)\n",
    "            c = np.convolve(a,d, \"same\")/sum(d)\n",
    "            I[int((50)/dt):int((500+50)/dt)]=c\n",
    "            V,m,n,h,a,b=CST(I,dt)\n",
    "            s_o=get_aps(V)\n",
    "            spikes.append(s_0)\n",
    "        else:\n",
    "            for l in range(25):\n",
    "                s=0\n",
    "                a = sigma[i]*np.random.randn(50000)+u[j]\n",
    "                d = np.ones(100)\n",
    "                c = np.convolve(a,d, \"same\")/sum(d)\n",
    "                I[int((50)/dt):int((500+50)/dt)]=c\n",
    "                V,m,n,h,a,b=CST(I,dt)\n",
    "                s=get_aps(V)\n",
    "                spikes.append(s)\n",
    "    mean_spikes[i]=np.mean(spikes)\n",
    "\n",
    "print(spikes)\n",
    "print(len(spikes))\n",
    "print(mean_spikes)\n",
    "\n",
    "%matplotlib inline\n",
    "fig,ax1=plt.subplots()\n",
    "ax1.plot(sigma,mean_spikes,'r')\n",
    "ax1.set_title(' mean spikes for each of the standard deviations')\n",
    "ax1.set_xlabel('standard deviation (μA/mm2)')\n",
    "ax1.set_ylabel('spikes numbers')"
   ]
  },
  {
   "cell_type": "code",
   "execution_count": null,
   "metadata": {
    "collapsed": true
   },
   "outputs": [],
   "source": []
  },
  {
   "cell_type": "code",
   "execution_count": null,
   "metadata": {
    "collapsed": true
   },
   "outputs": [],
   "source": []
  }
 ],
 "metadata": {
  "anaconda-cloud": {},
  "kernelspec": {
   "display_name": "Python [py35]",
   "language": "python",
   "name": "Python [py35]"
  },
  "language_info": {
   "codemirror_mode": {
    "name": "ipython",
    "version": 3
   },
   "file_extension": ".py",
   "mimetype": "text/x-python",
   "name": "python",
   "nbconvert_exporter": "python",
   "pygments_lexer": "ipython3",
   "version": "3.5.2"
  }
 },
 "nbformat": 4,
 "nbformat_minor": 0
}
