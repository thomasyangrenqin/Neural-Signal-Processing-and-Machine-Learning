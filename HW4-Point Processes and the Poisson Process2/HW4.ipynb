{
 "cells": [
  {
   "cell_type": "markdown",
   "metadata": {},
   "source": [
    "## 1---a). Model Comparison "
   ]
  },
  {
   "cell_type": "code",
   "execution_count": 1,
   "metadata": {
    "collapsed": false
   },
   "outputs": [
    {
     "name": "stdout",
     "output_type": "stream",
     "text": [
      "for Gaussian process model, the ln of its likelihood is:-25724.94959\n",
      "for Poisson process model, the ln of its likelihood is:-25644.00969\n"
     ]
    }
   ],
   "source": [
    "import matplotlib.pyplot as plt\n",
    "%matplotlib inline\n",
    "\n",
    "import seaborn as sns # seaborn styles things nicely\n",
    "sns.set(rc={'figure.figsize': (12, 4),'lines.linewidth': 2, 'font.size': 18, \n",
    "            'axes.labelsize': 16, 'legend.fontsize': 12, 'ytick.labelsize': 12, \n",
    "            'xtick.labelsize': 12 })\n",
    "sns.set_style('white')\n",
    "\n",
    "import numpy as np\n",
    "from scipy.stats import norm\n",
    "from scipy.stats.distributions import poisson\n",
    "[SpikeTimes1, SpikeCount1] = np.load('hw4problem1A.npy')\n",
    "\n",
    "probability_G=[norm(10.2,np.sqrt(9.5)).pdf(i) for i in SpikeCount1]\n",
    "probability_P=[poisson.pmf(l,9.8) for l in SpikeCount1]\n",
    "\n",
    "likelihood_G=np.sum(np.log(probability_G))\n",
    "likelihood_P=np.sum(np.log(probability_P))\n",
    "    \n",
    "print('for Gaussian process model, the ln of its likelihood is:%.5f'%likelihood_G)\n",
    "print('for Poisson process model, the ln of its likelihood is:%.5f' %likelihood_P)"
   ]
  },
  {
   "cell_type": "markdown",
   "metadata": {},
   "source": [
    "#### Therefore, Poisson process model describe data better."
   ]
  },
  {
   "cell_type": "markdown",
   "metadata": {},
   "source": [
    "## b).Now split the data into training and validation sets"
   ]
  },
  {
   "cell_type": "code",
   "execution_count": 2,
   "metadata": {
    "collapsed": false
   },
   "outputs": [
    {
     "name": "stdout",
     "output_type": "stream",
     "text": [
      "for Gaussian process model, the ln of its likelihood is:-12808.68087\n",
      "for Poisson process model, the ln of its likelihood is:-12775.92996\n"
     ]
    }
   ],
   "source": [
    "# split data into training and validation sets\n",
    "training_sets=SpikeCount1[:5000]\n",
    "validation_sets=SpikeCount1[5000:]\n",
    "\n",
    "#Got the trained model parameter:\n",
    "mean_data=np.mean(training_sets)\n",
    "var_data=np.var(validation_sets)\n",
    "\n",
    "#validation\n",
    "probability_G=[norm(mean_data,np.sqrt(var_data)).pdf(i) for i in validation_sets]\n",
    "probability_P=[poisson.pmf(l,mean_data/1) for l in validation_sets]\n",
    "\n",
    "likelihood_G=np.sum(np.log(probability_G))\n",
    "likelihood_P=np.sum(np.log(probability_P))\n",
    "    \n",
    "print('for Gaussian process model, the ln of its likelihood is:%.5f'%likelihood_G)\n",
    "print('for Poisson process model, the ln of its likelihood is:%.5f' %likelihood_P)"
   ]
  },
  {
   "cell_type": "markdown",
   "metadata": {},
   "source": [
    "#### Therefore, after traning and validation, Poisson process model still describes data better."
   ]
  },
  {
   "cell_type": "markdown",
   "metadata": {},
   "source": [
    "## c). Point Processes"
   ]
  },
  {
   "cell_type": "code",
   "execution_count": 3,
   "metadata": {
    "collapsed": false
   },
   "outputs": [
    {
     "data": {
      "text/plain": [
       "<Container object of 100 artists>"
      ]
     },
     "execution_count": 3,
     "metadata": {},
     "output_type": "execute_result"
    },
    {
     "data": {
      "image/png": "[encoded data removed]",
      "text/plain": [
       "<matplotlib.figure.Figure at 0x116d39e80>"
      ]
     },
     "metadata": {},
     "output_type": "display_data"
    }
   ],
   "source": [
    "all_spiketime=np.array([])\n",
    "for i in range(len(SpikeTimes1)):\n",
    "    all_spiketime=np.append(all_spiketime,SpikeTimes1[i])\n",
    "# generate PSTH(peri-stimulus time histogram) to show the average number of spikes in small bins of time\n",
    "bin_size=0.01\n",
    "bins=np.arange(0,1+bin_size,bin_size)\n",
    "k0=[]\n",
    "for l in range(len(bins)-1):\n",
    "    K=0\n",
    "    for i in range(len(all_spiketime)):\n",
    "        if all_spiketime[i]>=bins[l] and all_spiketime[i]<bins[l+1]:\n",
    "            K+=1\n",
    "    k0.append(K)\n",
    "k=[p/(np.size(SpikeTimes1)*bin_size) for p in k0]\n",
    "bins=bins.tolist()\n",
    "bins=bins[:-1]\n",
    "\n",
    "plt.bar(left=bins,height=k,width=bin_size,align='edge')\n"
   ]
  },
  {
   "cell_type": "markdown",
   "metadata": {},
   "source": [
    "####  With the PSTH diagram, we can see that there are more and more spikes occured in the late time of the experiment time limit(1 second), the later time, the more spikes occured. Therefore, it's clear that the firing rate over time is not constant, I would choose to use a time-varying rate over the 1 second window to model this neuron"
   ]
  },
  {
   "cell_type": "markdown",
   "metadata": {},
   "source": [
    "## d). Fano Factor / ISI Distribution "
   ]
  },
  {
   "cell_type": "code",
   "execution_count": 4,
   "metadata": {
    "collapsed": false
   },
   "outputs": [
    {
     "data": {
      "text/plain": [
       "<Container object of 100 artists>"
      ]
     },
     "execution_count": 4,
     "metadata": {},
     "output_type": "execute_result"
    },
    {
     "data": {
      "image/png": "[encoded data removed]",
      "text/plain": [
       "<matplotlib.figure.Figure at 0x117285cf8>"
      ]
     },
     "metadata": {},
     "output_type": "display_data"
    }
   ],
   "source": [
    "# import new data\n",
    "[SpikeTimes2, SpikeCount2] = np.load('hw4problem1C.npy')\n",
    "\n",
    "all_spiketime2=np.array([])\n",
    "for i in range(len(SpikeTimes2)):\n",
    "    all_spiketime2=np.append(all_spiketime2,SpikeTimes2[i])\n",
    "# generate PSTH(peri-stimulus time histogram) to show the average number of spikes in small bins of time\n",
    "bin_size=0.01\n",
    "bins=np.arange(0,1+bin_size,bin_size)\n",
    "k0=[]\n",
    "for l in range(len(bins)-1):\n",
    "    K=0\n",
    "    for i in range(len(all_spiketime2)):\n",
    "        if all_spiketime2[i]>=bins[l] and all_spiketime2[i]<bins[l+1]:\n",
    "            K+=1\n",
    "    k0.append(K)\n",
    "k=[p/(np.size(SpikeTimes2)*bin_size) for p in k0]\n",
    "bins=bins.tolist()\n",
    "bins=bins[:-1]\n",
    "\n",
    "plt.bar(left=bins,height=k,width=bin_size,align='edge')"
   ]
  },
  {
   "cell_type": "markdown",
   "metadata": {},
   "source": [
    "####  Again, we can see that there are more and more spikes occured in the late time of the experiment time limit(1 second), the later time, the more spikes occured. Therefore, it's clear that the firing rate over time is not constant, I would choose to use a time-varying rate over the 1 second window to model this neuron"
   ]
  },
  {
   "cell_type": "code",
   "execution_count": 5,
   "metadata": {
    "collapsed": false
   },
   "outputs": [
    {
     "name": "stdout",
     "output_type": "stream",
     "text": [
      "The Fano Factor of this neuron is: 0.87329\n"
     ]
    }
   ],
   "source": [
    "mean_spike=np.mean(SpikeCount2)\n",
    "var_spike=np.var(SpikeCount2)\n",
    "Fano_factor=var_spike/mean_spike\n",
    "print('The Fano Factor of this neuron is: %.5f'%Fano_factor)"
   ]
  },
  {
   "cell_type": "markdown",
   "metadata": {},
   "source": [
    "#### The Fano Factor for the standard Poisson process is 1, and the Fano Factor of this neuron is just 0.87329, smaller than the standard Poisson process one."
   ]
  },
  {
   "cell_type": "code",
   "execution_count": 6,
   "metadata": {
    "collapsed": false
   },
   "outputs": [
    {
     "data": {
      "text/plain": [
       "[<matplotlib.lines.Line2D at 0x10a243a90>]"
      ]
     },
     "execution_count": 6,
     "metadata": {},
     "output_type": "execute_result"
    },
    {
     "data": {
      "image/png": "[encoded data removed]",
      "text/plain": [
       "<matplotlib.figure.Figure at 0x10a2293c8>"
      ]
     },
     "metadata": {},
     "output_type": "display_data"
    }
   ],
   "source": [
    "# generate ISI distribution of this neuron\n",
    "sum_ISI=np.array([])\n",
    "for i in range(len(SpikeTimes2)):\n",
    "    sum_ISI=np.append(sum_ISI,np.diff(SpikeTimes2[i]))\n",
    "\n",
    "\n",
    "%matplotlib inline\n",
    "plt.title('ISI distribution')\n",
    "n,bins,patches=plt.hist(sum_ISI,bins=np.arange(0,1,0.02),normed=True)\n",
    "plt.xlabel('interspike interval(ms)')\n",
    "plt.ylabel('percent of isi')\n",
    "\n",
    "pdf=9.8*np.exp(-9.8*bins)  # expected pdf function\n",
    "\n",
    "plt.plot(bins,pdf,'r')  #plot standard ISI exponential distribution"
   ]
  },
  {
   "cell_type": "markdown",
   "metadata": {},
   "source": [
    "#### From the ISI distribution diagram, we can see that, at the very beginning of the ISI's, there is kind of 'missing', fewer ISI's than the normal standard Poisson process's ISI distribution. This probably due to the refractory period, also will leads to lower variance, and so smaller Fano Factor."
   ]
  },
  {
   "cell_type": "markdown",
   "metadata": {},
   "source": [
    "## 2---a)."
   ]
  },
  {
   "cell_type": "code",
   "execution_count": 7,
   "metadata": {
    "collapsed": false
   },
   "outputs": [
    {
     "data": {
      "text/html": [
       "<div>\n",
       "<table border=\"1\" class=\"dataframe\">\n",
       "  <thead>\n",
       "    <tr style=\"text-align: right;\">\n",
       "      <th></th>\n",
       "      <th>timestamps</th>\n",
       "      <th>count</th>\n",
       "    </tr>\n",
       "    <tr>\n",
       "      <th>direction</th>\n",
       "      <th></th>\n",
       "      <th></th>\n",
       "    </tr>\n",
       "  </thead>\n",
       "  <tbody>\n",
       "    <tr>\n",
       "      <th>0</th>\n",
       "      <td>2.354574e+12</td>\n",
       "      <td>507</td>\n",
       "    </tr>\n",
       "    <tr>\n",
       "      <th>20</th>\n",
       "      <td>2.370583e+12</td>\n",
       "      <td>132</td>\n",
       "    </tr>\n",
       "    <tr>\n",
       "      <th>40</th>\n",
       "      <td>2.346569e+12</td>\n",
       "      <td>107</td>\n",
       "    </tr>\n",
       "    <tr>\n",
       "      <th>60</th>\n",
       "      <td>2.398601e+12</td>\n",
       "      <td>87</td>\n",
       "    </tr>\n",
       "    <tr>\n",
       "      <th>80</th>\n",
       "      <td>2.378588e+12</td>\n",
       "      <td>123</td>\n",
       "    </tr>\n",
       "    <tr>\n",
       "      <th>100</th>\n",
       "      <td>2.218490e+12</td>\n",
       "      <td>309</td>\n",
       "    </tr>\n",
       "    <tr>\n",
       "      <th>120</th>\n",
       "      <td>2.242505e+12</td>\n",
       "      <td>736</td>\n",
       "    </tr>\n",
       "    <tr>\n",
       "      <th>140</th>\n",
       "      <td>2.278527e+12</td>\n",
       "      <td>1212</td>\n",
       "    </tr>\n",
       "    <tr>\n",
       "      <th>160</th>\n",
       "      <td>2.358576e+12</td>\n",
       "      <td>1153</td>\n",
       "    </tr>\n",
       "    <tr>\n",
       "      <th>180</th>\n",
       "      <td>2.310547e+12</td>\n",
       "      <td>434</td>\n",
       "    </tr>\n",
       "    <tr>\n",
       "      <th>200</th>\n",
       "      <td>2.306544e+12</td>\n",
       "      <td>132</td>\n",
       "    </tr>\n",
       "    <tr>\n",
       "      <th>220</th>\n",
       "      <td>2.358576e+12</td>\n",
       "      <td>88</td>\n",
       "    </tr>\n",
       "    <tr>\n",
       "      <th>240</th>\n",
       "      <td>2.170461e+12</td>\n",
       "      <td>109</td>\n",
       "    </tr>\n",
       "    <tr>\n",
       "      <th>260</th>\n",
       "      <td>2.510669e+12</td>\n",
       "      <td>101</td>\n",
       "    </tr>\n",
       "    <tr>\n",
       "      <th>280</th>\n",
       "      <td>2.258355e+12</td>\n",
       "      <td>304</td>\n",
       "    </tr>\n",
       "    <tr>\n",
       "      <th>300</th>\n",
       "      <td>2.322554e+12</td>\n",
       "      <td>937</td>\n",
       "    </tr>\n",
       "    <tr>\n",
       "      <th>320</th>\n",
       "      <td>2.246507e+12</td>\n",
       "      <td>1368</td>\n",
       "    </tr>\n",
       "    <tr>\n",
       "      <th>340</th>\n",
       "      <td>2.302542e+12</td>\n",
       "      <td>1337</td>\n",
       "    </tr>\n",
       "  </tbody>\n",
       "</table>\n",
       "</div>"
      ],
      "text/plain": [
       "             timestamps  count\n",
       "direction                     \n",
       "0          2.354574e+12    507\n",
       "20         2.370583e+12    132\n",
       "40         2.346569e+12    107\n",
       "60         2.398601e+12     87\n",
       "80         2.378588e+12    123\n",
       "100        2.218490e+12    309\n",
       "120        2.242505e+12    736\n",
       "140        2.278527e+12   1212\n",
       "160        2.358576e+12   1153\n",
       "180        2.310547e+12    434\n",
       "200        2.306544e+12    132\n",
       "220        2.358576e+12     88\n",
       "240        2.170461e+12    109\n",
       "260        2.510669e+12    101\n",
       "280        2.258355e+12    304\n",
       "300        2.322554e+12    937\n",
       "320        2.246507e+12   1368\n",
       "340        2.302542e+12   1337"
      ]
     },
     "execution_count": 7,
     "metadata": {},
     "output_type": "execute_result"
    }
   ],
   "source": [
    "import pandas as pd\n",
    "[stimulus, spiketimes3] = np.load('hw4problem2.npy')\n",
    "\n",
    "stimulus1=pd.DataFrame(stimulus,columns=['timestamps','direction'])\n",
    "stimulus1['count']=0\n",
    "for i in range(len(spiketimes3[9])):\n",
    "    \n",
    "    a=stimulus1[(stimulus1.timestamps<=(spiketimes3[9][i])) & (stimulus1.timestamps>=(spiketimes3[9][i]-5000))].index\n",
    "    stimulus1.ix[a,'count']=1\n",
    "\n",
    "spikes1=stimulus1.groupby('direction').sum()\n",
    "spikes1"
   ]
  },
  {
   "cell_type": "code",
   "execution_count": 8,
   "metadata": {
    "collapsed": false
   },
   "outputs": [
    {
     "data": {
      "text/html": [
       "<div>\n",
       "<table border=\"1\" class=\"dataframe\">\n",
       "  <thead>\n",
       "    <tr style=\"text-align: right;\">\n",
       "      <th></th>\n",
       "      <th>count</th>\n",
       "    </tr>\n",
       "    <tr>\n",
       "      <th>direction</th>\n",
       "      <th></th>\n",
       "    </tr>\n",
       "  </thead>\n",
       "  <tbody>\n",
       "    <tr>\n",
       "      <th>0</th>\n",
       "      <td>15.84375</td>\n",
       "    </tr>\n",
       "    <tr>\n",
       "      <th>20</th>\n",
       "      <td>4.12500</td>\n",
       "    </tr>\n",
       "    <tr>\n",
       "      <th>40</th>\n",
       "      <td>3.34375</td>\n",
       "    </tr>\n",
       "    <tr>\n",
       "      <th>60</th>\n",
       "      <td>2.71875</td>\n",
       "    </tr>\n",
       "    <tr>\n",
       "      <th>80</th>\n",
       "      <td>3.84375</td>\n",
       "    </tr>\n",
       "    <tr>\n",
       "      <th>100</th>\n",
       "      <td>9.65625</td>\n",
       "    </tr>\n",
       "    <tr>\n",
       "      <th>120</th>\n",
       "      <td>23.00000</td>\n",
       "    </tr>\n",
       "    <tr>\n",
       "      <th>140</th>\n",
       "      <td>37.87500</td>\n",
       "    </tr>\n",
       "    <tr>\n",
       "      <th>160</th>\n",
       "      <td>36.03125</td>\n",
       "    </tr>\n",
       "    <tr>\n",
       "      <th>180</th>\n",
       "      <td>13.56250</td>\n",
       "    </tr>\n",
       "    <tr>\n",
       "      <th>200</th>\n",
       "      <td>4.12500</td>\n",
       "    </tr>\n",
       "    <tr>\n",
       "      <th>220</th>\n",
       "      <td>2.75000</td>\n",
       "    </tr>\n",
       "    <tr>\n",
       "      <th>240</th>\n",
       "      <td>3.40625</td>\n",
       "    </tr>\n",
       "    <tr>\n",
       "      <th>260</th>\n",
       "      <td>3.15625</td>\n",
       "    </tr>\n",
       "    <tr>\n",
       "      <th>280</th>\n",
       "      <td>9.50000</td>\n",
       "    </tr>\n",
       "    <tr>\n",
       "      <th>300</th>\n",
       "      <td>29.28125</td>\n",
       "    </tr>\n",
       "    <tr>\n",
       "      <th>320</th>\n",
       "      <td>42.75000</td>\n",
       "    </tr>\n",
       "    <tr>\n",
       "      <th>340</th>\n",
       "      <td>41.78125</td>\n",
       "    </tr>\n",
       "  </tbody>\n",
       "</table>\n",
       "</div>"
      ],
      "text/plain": [
       "              count\n",
       "direction          \n",
       "0          15.84375\n",
       "20          4.12500\n",
       "40          3.34375\n",
       "60          2.71875\n",
       "80          3.84375\n",
       "100         9.65625\n",
       "120        23.00000\n",
       "140        37.87500\n",
       "160        36.03125\n",
       "180        13.56250\n",
       "200         4.12500\n",
       "220         2.75000\n",
       "240         3.40625\n",
       "260         3.15625\n",
       "280         9.50000\n",
       "300        29.28125\n",
       "320        42.75000\n",
       "340        41.78125"
      ]
     },
     "execution_count": 8,
     "metadata": {},
     "output_type": "execute_result"
    }
   ],
   "source": [
    "spikes1['count']/=32\n",
    "del spikes1['timestamps']\n",
    "spikes1"
   ]
  },
  {
   "cell_type": "code",
   "execution_count": 9,
   "metadata": {
    "collapsed": false
   },
   "outputs": [
    {
     "data": {
      "text/plain": [
       "<matplotlib.text.Text at 0x116cb4390>"
      ]
     },
     "execution_count": 9,
     "metadata": {},
     "output_type": "execute_result"
    },
    {
     "data": {
      "image/png": "[encoded data removed]",
      "text/plain": [
       "<matplotlib.figure.Figure at 0x116a3a9b0>"
      ]
     },
     "metadata": {},
     "output_type": "display_data"
    }
   ],
   "source": [
    "\n",
    "spikes1.plot(legend=None)\n",
    "plt.xlabel(' stimulus direction')\n",
    "plt.ylabel('average spikes per second')"
   ]
  },
  {
   "cell_type": "markdown",
   "metadata": {},
   "source": [
    "#### So, there are kind of two “preferred direction”, 140 and 320 degree.\n",
    "#### Since 320-140=180 degree, therefore, this neuron may just 'prefer' one specific line."
   ]
  },
  {
   "cell_type": "markdown",
   "metadata": {},
   "source": [
    "## b)."
   ]
  },
  {
   "cell_type": "code",
   "execution_count": 10,
   "metadata": {
    "collapsed": false
   },
   "outputs": [],
   "source": [
    "prefer_direction=[]\n",
    "maximum_rate=[]\n",
    "for l in range(10):\n",
    "    stimulus1=pd.DataFrame(stimulus,columns=['timestamps','direction'])\n",
    "    stimulus1['count']=0\n",
    "    for i in range(len(spiketimes3[l])):\n",
    "    \n",
    "        a=stimulus1[(stimulus1.timestamps<=(spiketimes3[l][i])) & (stimulus1.timestamps>=(spiketimes3[l][i]-5000))].index\n",
    "        stimulus1.ix[a,'count']=1\n",
    "\n",
    "    spikes2=stimulus1.groupby('direction').sum()\n",
    "    spikes2['count']/=32\n",
    "    del spikes2['timestamps']\n",
    "\n",
    "    max_spikes=spikes2.sort_values(by='count',ascending=False)\n",
    "    prefer_direction.append(list(max_spikes.index)[0])\n",
    "    maximum_rate.append(list(max_spikes['count'])[0])"
   ]
  },
  {
   "cell_type": "code",
   "execution_count": 11,
   "metadata": {
    "collapsed": false
   },
   "outputs": [
    {
     "name": "stdout",
     "output_type": "stream",
     "text": [
      "[80, 100, 180, 320, 180, 260, 80, 80, 40, 320]\n"
     ]
    },
    {
     "data": {
      "image/png": "[encoded data removed]",
      "text/plain": [
       "<matplotlib.figure.Figure at 0x117e01b00>"
      ]
     },
     "metadata": {},
     "output_type": "display_data"
    }
   ],
   "source": [
    "plt.title('Preferred direction')\n",
    "n,bins,patches=plt.hist(prefer_direction,bins=np.arange(0,340,30),normed=True)\n",
    "plt.xlabel('Preferred directions of stimulus(degrees)')\n",
    "plt.ylabel('Percent of Direction distribution')\n",
    "print(prefer_direction)"
   ]
  },
  {
   "cell_type": "code",
   "execution_count": 12,
   "metadata": {
    "collapsed": false
   },
   "outputs": [
    {
     "name": "stdout",
     "output_type": "stream",
     "text": [
      "[13.5, 23.375, 21.96875, 12.1875, 14.0, 19.25, 27.71875, 3.78125, 5.125, 42.75]\n"
     ]
    },
    {
     "data": {
      "image/png": "[encoded data removed]",
      "text/plain": [
       "<matplotlib.figure.Figure at 0x117bddcf8>"
      ]
     },
     "metadata": {},
     "output_type": "display_data"
    }
   ],
   "source": [
    "plt.title('Maximum firing rate')\n",
    "n,bins,patches=plt.hist(maximum_rate,bins=np.arange(0,45,3),normed=True)\n",
    "plt.xlabel('The maximum firing rate')\n",
    "plt.ylabel('Percent of the maximum firing rate')\n",
    "print(maximum_rate)"
   ]
  },
  {
   "cell_type": "markdown",
   "metadata": {},
   "source": [
    "## C)."
   ]
  },
  {
   "cell_type": "code",
   "execution_count": 13,
   "metadata": {
    "collapsed": true
   },
   "outputs": [],
   "source": [
    "max_id=maximum_rate.index(max(maximum_rate))\n",
    "stimulus1=pd.DataFrame(stimulus,columns=['timestamps','direction'])\n",
    "stimulus1['count']=0\n",
    "for i in range(len(spiketimes3[max_id])):\n",
    "    \n",
    "    a=stimulus1[(stimulus1.timestamps<=(spiketimes3[max_id][i])) & (stimulus1.timestamps>=(spiketimes3[max_id][i]-5000))].index\n",
    "    stimulus1.ix[a,'count']=1\n",
    "\n",
    "stimulus1=stimulus1.set_index(['direction'])\n",
    "directions=sorted(list(set(stimulus1.index)))\n",
    "mean_spikerate=[]\n",
    "var_spikerate=[]\n",
    "for l in range(len(directions)):\n",
    "    s=stimulus1[stimulus1.index==directions[l]].sort_values(by='timestamps')\n",
    "    times=np.array([])\n",
    "    for i in range(8):\n",
    "        times=np.append(times,(i+1)*np.ones(800))\n",
    "    times=list(times)\n",
    "    s['times']=times\n",
    "    spikes3=s.groupby('times').sum()\n",
    "    spikes3['count']/=4\n",
    "    countspikes=list(spikes3['count'])\n",
    "    mean_spikerate.append(np.mean(countspikes))\n",
    "    var_spikerate.append(np.var(countspikes))"
   ]
  },
  {
   "cell_type": "code",
   "execution_count": 14,
   "metadata": {
    "collapsed": false
   },
   "outputs": [
    {
     "name": "stdout",
     "output_type": "stream",
     "text": [
      "mean spiking rate: [15.84375, 4.125, 3.34375, 2.71875, 3.84375, 9.65625, 23.0, 37.875, 36.03125, 13.5625, 4.125, 2.75, 3.40625, 3.15625, 9.5, 29.28125, 42.75, 41.78125]\n",
      "\n",
      "variance of spikes observed in one stimulus presentation: [32.8427734375, 1.515625, 2.8583984375, 2.9755859375, 1.0302734375, 30.2646484375, 87.90625, 29.40625, 88.3974609375, 14.05859375, 8.609375, 1.53125, 13.7333984375, 2.5771484375, 8.34375, 69.3349609375, 52.125, 91.7724609375]\n",
      "\n",
      "Fano_factor for each stimulus direction: [2.0729166666666665, 0.36742424242424243, 0.85484813084112155, 1.0944683908045978, 0.26803861788617889, 3.1342030744336569, 3.8220108695652173, 0.77640264026402639, 2.4533553772766696, 1.036578341013825, 2.0871212121212119, 0.55681818181818177, 4.0318233944954125, 0.81652227722772275, 0.87828947368421051, 2.3678962113127002, 1.2192982456140351, 2.1964986910994764]\n"
     ]
    },
    {
     "data": {
      "image/png": "[encoded data removed]",
      "text/plain": [
       "<matplotlib.figure.Figure at 0x1176b1eb8>"
      ]
     },
     "metadata": {},
     "output_type": "display_data"
    }
   ],
   "source": [
    "Fano_factor=np.divide(var_spikerate,mean_spikerate)\n",
    "Fano_factor=list(Fano_factor)\n",
    "\n",
    "%matplotlib inline\n",
    "plt.plot(directions,Fano_factor,'r')\n",
    "y=np.ones(len(directions))\n",
    "plt.plot(directions,y,'g')\n",
    "plt.title('The neuron with the largest maximum firing rate')\n",
    "plt.xlabel('Direction of stimulus')\n",
    "plt.ylabel('Fano Factor of each direction')\n",
    "\n",
    "print('mean spiking rate: %a\\n'%mean_spikerate)\n",
    "print('variance of spikes observed in one stimulus presentation: %a\\n'%var_spikerate)\n",
    "print('Fano_factor for each stimulus direction: %a'%Fano_factor)"
   ]
  },
  {
   "cell_type": "code",
   "execution_count": 15,
   "metadata": {
    "collapsed": true
   },
   "outputs": [],
   "source": [
    "ave_firingrate=[]\n",
    "for l in range(10):\n",
    "    stimulus1=pd.DataFrame(stimulus,columns=['timestamps','direction'])\n",
    "    stimulus1['count']=0\n",
    "    for i in range(len(spiketimes3[l])):\n",
    "    \n",
    "        a=stimulus1[(stimulus1.timestamps<=(spiketimes3[l][i])) & (stimulus1.timestamps>=(spiketimes3[l][i]-5000))].index\n",
    "        stimulus1.ix[a,'count']=1\n",
    "\n",
    "    spikes4=stimulus1.groupby('direction').sum()\n",
    "    spikes4['count']/=32\n",
    "    del spikes4['timestamps']\n",
    "    average_firingrate=np.mean(list(spikes4['count']))\n",
    "    ave_firingrate.append(average_firingrate)"
   ]
  },
  {
   "cell_type": "code",
   "execution_count": 16,
   "metadata": {
    "collapsed": false
   },
   "outputs": [],
   "source": [
    "#find the neuron with the largest average firing rate.\n",
    "max_ave_id=ave_firingrate.index(max(ave_firingrate))\n",
    "\n",
    "# repeat\n",
    "stimulus1=pd.DataFrame(stimulus,columns=['timestamps','direction'])\n",
    "stimulus1['count']=0\n",
    "for i in range(len(spiketimes3[max_ave_id])):\n",
    "    \n",
    "    a=stimulus1[(stimulus1.timestamps<=(spiketimes3[max_ave_id][i])) & (stimulus1.timestamps>=(spiketimes3[max_ave_id][i]-5000))].index\n",
    "    stimulus1.ix[a,'count']=1\n",
    "\n",
    "stimulus1=stimulus1.set_index(['direction'])\n",
    "directions=sorted(list(set(stimulus1.index)))\n",
    "mean_spikerate=[]\n",
    "var_spikerate=[]\n",
    "for l in range(len(directions)):\n",
    "    s=stimulus1[stimulus1.index==directions[l]].sort_values(by='timestamps')\n",
    "    times=np.array([])\n",
    "    for i in range(8):\n",
    "        times=np.append(times,(i+1)*np.ones(800))\n",
    "    times=list(times)\n",
    "    s['times']=times\n",
    "    spikes3=s.groupby('times').sum()\n",
    "    spikes3['count']/=4\n",
    "    countspikes=list(spikes3['count'])\n",
    "    mean_spikerate.append(np.mean(countspikes))\n",
    "    var_spikerate.append(np.var(countspikes))"
   ]
  },
  {
   "cell_type": "code",
   "execution_count": 17,
   "metadata": {
    "collapsed": false
   },
   "outputs": [
    {
     "name": "stdout",
     "output_type": "stream",
     "text": [
      "mean spiking rate: [15.9375, 18.53125, 19.65625, 21.375, 27.71875, 26.71875, 23.03125, 22.375, 15.96875, 12.9375, 12.875, 13.625, 14.5625, 17.90625, 21.5625, 21.96875, 17.0, 17.09375]\n",
      "\n",
      "variance of spikes observed in one stimulus presentation: [20.82421875, 32.1474609375, 22.4521484375, 45.96875, 47.8974609375, 91.6787109375, 37.4443359375, 42.484375, 13.7568359375, 19.01171875, 32.265625, 29.40625, 10.63671875, 35.2177734375, 32.71484375, 40.0693359375, 25.34375, 34.5927734375]\n",
      "\n",
      "Fano_factor for each stimulus direction: [1.3066176470588236, 1.7347702360876898, 1.1422396661367249, 2.1505847953216373, 1.7279805524239007, 3.4312499999999999, 1.6258056309362279, 1.8987430167597765, 0.86148483365949124, 1.4695048309178744, 2.5060679611650487, 2.1582568807339451, 0.7304184549356223, 1.9667866492146597, 1.5172101449275361, 1.8239242532005691, 1.4908088235294117, 2.0237088665447898]\n"
     ]
    },
    {
     "data": {
      "image/png": "[encoded data removed]",
      "text/plain": [
       "<matplotlib.figure.Figure at 0x1176f12e8>"
      ]
     },
     "metadata": {},
     "output_type": "display_data"
    }
   ],
   "source": [
    "Fano_factor=np.divide(var_spikerate,mean_spikerate)\n",
    "Fano_factor=list(Fano_factor)\n",
    "\n",
    "%matplotlib inline\n",
    "plt.plot(directions,Fano_factor,'r')\n",
    "y=np.ones(len(directions))\n",
    "plt.plot(directions,y,'g')\n",
    "plt.title('The neuron with the largest average firing rate')\n",
    "plt.xlabel('Direction of stimulus')\n",
    "plt.ylabel('Fano Factor of each direction')\n",
    "\n",
    "print('mean spiking rate: %a\\n'%mean_spikerate)\n",
    "print('variance of spikes observed in one stimulus presentation: %a\\n'%var_spikerate)\n",
    "print('Fano_factor for each stimulus direction: %a'%Fano_factor)"
   ]
  },
  {
   "cell_type": "markdown",
   "metadata": {},
   "source": [
    "## d)."
   ]
  },
  {
   "cell_type": "code",
   "execution_count": 18,
   "metadata": {
    "collapsed": true
   },
   "outputs": [],
   "source": [
    "# For The neuron with the largest maximum firing rate\n",
    "\n",
    "stimulus1=pd.DataFrame(stimulus,columns=['timestamps','direction'])\n",
    "stimulus1['count']=0\n",
    "for i in range(len(spiketimes3[max_id])):\n",
    "    \n",
    "    a=stimulus1[(stimulus1.timestamps<=(spiketimes3[max_id][i])) & (stimulus1.timestamps>=(spiketimes3[max_id][i]-5000))].index\n",
    "    stimulus1.ix[a,'count']=1\n",
    "    \n",
    "spikes1=stimulus1.groupby('direction').sum()\n",
    "\n",
    "# Get the prefered direction\n",
    "prefer_d=list(spikes1[spikes1['count']==max(spikes1['count'])].index)\n",
    "stimulus_preferd=stimulus1[stimulus1['direction']==prefer_d]\n",
    "stimulus_preferd=stimulus_preferd.sort_values(by='timestamps')\n",
    "# Get the ISI distribution under the prefered direction stimulus\n",
    "c=list(stimulus_preferd.timestamps)\n",
    "whole_ISI=np.array([])\n",
    "for l in range(8):\n",
    "    spike_times=[]\n",
    "    for i in range(len(spiketimes3[max_id])):\n",
    "        if (c[0+l*800]<=spiketimes3[max_id][i]) & (c[799+l*800]>=spiketimes3[max_id][i]):\n",
    "            spike_times.append(spiketimes3[max_id][i])\n",
    "    ISI_1=np.diff(spike_times)\n",
    "    whole_ISI=np.append(whole_ISI,ISI_1)"
   ]
  },
  {
   "cell_type": "code",
   "execution_count": 19,
   "metadata": {
    "collapsed": false
   },
   "outputs": [
    {
     "data": {
      "text/plain": [
       "[<matplotlib.lines.Line2D at 0x10923f160>]"
      ]
     },
     "execution_count": 19,
     "metadata": {},
     "output_type": "execute_result"
    },
    {
     "data": {
      "image/png": "[encoded data removed]",
      "text/plain": [
       "<matplotlib.figure.Figure at 0x1091f77b8>"
      ]
     },
     "metadata": {},
     "output_type": "display_data"
    }
   ],
   "source": [
    "plt.title('ISI distribution for The neuron with the largest maximum firing rate')\n",
    "n,bins,patches=plt.hist(whole_ISI/1000,bins=np.arange(0,120,10),normed=True)\n",
    "plt.xlabel('interspike interval(ms)')\n",
    "plt.ylabel('percent of isi')\n",
    "\n",
    "rate=max(spikes1['count'])/32/1000\n",
    "pdf=rate*np.exp(-rate*bins)  # expected pdf function\n",
    "\n",
    "plt.plot(bins,pdf,'r')  #plot standard ISI exponential distribution"
   ]
  },
  {
   "cell_type": "code",
   "execution_count": 20,
   "metadata": {
    "collapsed": false
   },
   "outputs": [],
   "source": [
    "#For The neuron with the largest average firing rate\n",
    "\n",
    "stimulus1=pd.DataFrame(stimulus,columns=['timestamps','direction'])\n",
    "stimulus1['count']=0\n",
    "for i in range(len(spiketimes3[max_ave_id])):\n",
    "    \n",
    "    a=stimulus1[(stimulus1.timestamps<=(spiketimes3[max_ave_id][i])) & (stimulus1.timestamps>=(spiketimes3[max_ave_id][i]-5000))].index\n",
    "    stimulus1.ix[a,'count']=1\n",
    "    \n",
    "spikes1=stimulus1.groupby('direction').sum()\n",
    "\n",
    "# Get the prefered direction\n",
    "prefer_d=list(spikes1[spikes1['count']==max(spikes1['count'])].index)\n",
    "stimulus_preferd=stimulus1[stimulus1['direction']==prefer_d]\n",
    "stimulus_preferd=stimulus_preferd.sort_values(by='timestamps')\n",
    "# Get the ISI distribution under the prefered direction stimulus\n",
    "c=list(stimulus_preferd.timestamps)\n",
    "whole_ISI=np.array([])\n",
    "for l in range(8):\n",
    "    spike_times=[]\n",
    "    for i in range(len(spiketimes3[max_ave_id])):\n",
    "        if (c[0+l*800]<=spiketimes3[max_ave_id][i]) & (c[799+l*800]>=spiketimes3[max_ave_id][i]):\n",
    "            spike_times.append(spiketimes3[max_ave_id][i])\n",
    "    ISI_1=np.diff(spike_times)\n",
    "    whole_ISI=np.append(whole_ISI,ISI_1)"
   ]
  },
  {
   "cell_type": "code",
   "execution_count": 21,
   "metadata": {
    "collapsed": false
   },
   "outputs": [
    {
     "data": {
      "text/plain": [
       "[<matplotlib.lines.Line2D at 0x117992c88>]"
      ]
     },
     "execution_count": 21,
     "metadata": {},
     "output_type": "execute_result"
    },
    {
     "data": {
      "image/png": "[encoded data removed]",
      "text/plain": [
       "<matplotlib.figure.Figure at 0x117650940>"
      ]
     },
     "metadata": {},
     "output_type": "display_data"
    }
   ],
   "source": [
    "plt.title('ISI distribution for The neuron with the largest average firing rate')\n",
    "n,bins,patches=plt.hist(whole_ISI/1000,bins=np.arange(0,120,10),normed=True)\n",
    "plt.xlabel('interspike interval(ms)')\n",
    "plt.ylabel('percent of isi')\n",
    "\n",
    "rate=max(spikes1['count'])/32/1000\n",
    "pdf=rate*np.exp(-rate*bins)  # expected pdf function\n",
    "\n",
    "plt.plot(bins,pdf,'r')  #plot standard ISI exponential distribution"
   ]
  },
  {
   "cell_type": "markdown",
   "metadata": {},
   "source": [
    "## e)."
   ]
  },
  {
   "cell_type": "code",
   "execution_count": 22,
   "metadata": {
    "collapsed": false
   },
   "outputs": [],
   "source": [
    "# For The neuron with the largest maximum firing rate\n",
    "\n",
    "stimulus1=pd.DataFrame(stimulus,columns=['timestamps','direction'])\n",
    "stimulus1['count']=0\n",
    "for i in range(len(spiketimes3[max_id])):\n",
    "    a=stimulus1[(stimulus1.timestamps<=(spiketimes3[max_id][i])) & (stimulus1.timestamps>=(spiketimes3[max_id][i]-5000))].index\n",
    "    stimulus1.ix[a,'count']=1\n",
    "    \n",
    "spikes01=stimulus1.groupby('direction').sum()\n",
    "\n",
    "\n",
    "# Rescaling time\n",
    "inhomo_rate=list(spikes01['count']/32)\n",
    "whole_uISI=np.array([])\n",
    "for i in range(len(inhomo_rate)):\n",
    "    T=32\n",
    "    k=1\n",
    "    utime=[]\n",
    "    U=True\n",
    "    u={}\n",
    "    while U==True:\n",
    "        u[0]=0\n",
    "        tk=np.exp(k/1000000)\n",
    "        u[k]=(tk/inhomo_rate[i])+u[k-1]\n",
    "        if u[k] > T:\n",
    "            break\n",
    "        utime.append(u[k])\n",
    "        k+=1\n",
    "    u_ISI=np.diff(utime)\n",
    "    whole_uISI=np.append(whole_uISI,u_ISI)"
   ]
  },
  {
   "cell_type": "code",
   "execution_count": 23,
   "metadata": {
    "collapsed": false
   },
   "outputs": [
    {
     "data": {
      "text/plain": [
       "<matplotlib.text.Text at 0x117139e80>"
      ]
     },
     "execution_count": 23,
     "metadata": {},
     "output_type": "execute_result"
    },
    {
     "data": {
      "image/png": "[encoded data removed]",
      "text/plain": [
       "<matplotlib.figure.Figure at 0x11764d5c0>"
      ]
     },
     "metadata": {},
     "output_type": "display_data"
    }
   ],
   "source": [
    "plt.title('ISI distribution(after rescaling time) for The neuron with the largest maximum firing rate')\n",
    "n,bins,patches=plt.hist(whole_uISI*1000,bins=np.arange(0,150,10),normed=True)\n",
    "plt.xlabel('interspike interval(ms)')\n",
    "plt.ylabel('percent of isi')\n"
   ]
  },
  {
   "cell_type": "code",
   "execution_count": 24,
   "metadata": {
    "collapsed": false
   },
   "outputs": [
    {
     "data": {
      "text/plain": [
       "KstestResult(statistic=0.80563878301149927, pvalue=0.0)"
      ]
     },
     "execution_count": 24,
     "metadata": {},
     "output_type": "execute_result"
    }
   ],
   "source": [
    "from scipy import stats\n",
    "stats.kstest(whole_uISI,'expon')\n"
   ]
  },
  {
   "cell_type": "markdown",
   "metadata": {
    "collapsed": false
   },
   "source": [
    "#### According returned p-value,which near or equal to zero, reject the null hypothesis. So, for the neuron with the largest maximum firing rate, the piece-wise Poisson model isn't a good one."
   ]
  },
  {
   "cell_type": "code",
   "execution_count": 26,
   "metadata": {
    "collapsed": true
   },
   "outputs": [],
   "source": [
    "# For The neuron with the largest average firing rate\n",
    "\n",
    "stimulus1=pd.DataFrame(stimulus,columns=['timestamps','direction'])\n",
    "stimulus1['count']=0\n",
    "for i in range(len(spiketimes3[max_ave_id])):\n",
    "    a=stimulus1[(stimulus1.timestamps<=(spiketimes3[max_ave_id][i])) & (stimulus1.timestamps>=(spiketimes3[max_ave_id][i]-5000))].index\n",
    "    stimulus1.ix[a,'count']=1\n",
    "    \n",
    "spikes01=stimulus1.groupby('direction').sum()\n",
    "\n",
    "\n",
    "# Rescaling time\n",
    "inhomo_rate=list(spikes01['count']/32)\n",
    "whole_uISI=np.array([])\n",
    "for i in range(len(inhomo_rate)):\n",
    "    T=32\n",
    "    k=1\n",
    "    utime=[]\n",
    "    U=True\n",
    "    u={}\n",
    "    while U==True:\n",
    "        u[0]=0\n",
    "        tk=np.exp(k/1000000)\n",
    "        u[k]=(tk/inhomo_rate[i])+u[k-1]\n",
    "        if u[k] > T:\n",
    "            break\n",
    "        utime.append(u[k])\n",
    "        k+=1\n",
    "    u_ISI=np.diff(utime)\n",
    "    whole_uISI=np.append(whole_uISI,u_ISI)"
   ]
  },
  {
   "cell_type": "code",
   "execution_count": 27,
   "metadata": {
    "collapsed": false
   },
   "outputs": [
    {
     "data": {
      "text/plain": [
       "<matplotlib.text.Text at 0x1174d0da0>"
      ]
     },
     "execution_count": 27,
     "metadata": {},
     "output_type": "execute_result"
    },
    {
     "data": {
      "image/png": "[encoded data removed]",
      "text/plain": [
       "<matplotlib.figure.Figure at 0x116d39ac8>"
      ]
     },
     "metadata": {},
     "output_type": "display_data"
    }
   ],
   "source": [
    "plt.title('ISI distribution(after rescaling time) for The neuron with the largest average firing rate')\n",
    "n,bins,patches=plt.hist(whole_uISI*1000,bins=np.arange(0,150,10),normed=True)\n",
    "plt.xlabel('interspike interval(ms)')\n",
    "plt.ylabel('percent of isi')"
   ]
  },
  {
   "cell_type": "code",
   "execution_count": 28,
   "metadata": {
    "collapsed": false
   },
   "outputs": [
    {
     "data": {
      "text/plain": [
       "KstestResult(statistic=0.92524026263901737, pvalue=0.0)"
      ]
     },
     "execution_count": 28,
     "metadata": {},
     "output_type": "execute_result"
    }
   ],
   "source": [
    "from scipy import stats\n",
    "stats.kstest(whole_uISI,'expon')\n"
   ]
  },
  {
   "cell_type": "markdown",
   "metadata": {},
   "source": [
    "#### According returned p-value,which near or equal to zero, reject the null hypothesis. So, for the neuron with the largest maximum firing rate, the piece-wise Poisson model isn't a good one."
   ]
  },
  {
   "cell_type": "code",
   "execution_count": null,
   "metadata": {
    "collapsed": true
   },
   "outputs": [],
   "source": []
  }
 ],
 "metadata": {
  "anaconda-cloud": {},
  "kernelspec": {
   "display_name": "Python [py35]",
   "language": "python",
   "name": "Python [py35]"
  },
  "language_info": {
   "codemirror_mode": {
    "name": "ipython",
    "version": 3
   },
   "file_extension": ".py",
   "mimetype": "text/x-python",
   "name": "python",
   "nbconvert_exporter": "python",
   "pygments_lexer": "ipython3",
   "version": "3.5.2"
  }
 },
 "nbformat": 4,
 "nbformat_minor": 0
}
