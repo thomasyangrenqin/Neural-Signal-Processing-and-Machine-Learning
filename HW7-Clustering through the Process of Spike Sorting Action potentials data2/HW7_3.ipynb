{
 "cells": [
  {
   "cell_type": "code",
   "execution_count": 1,
   "metadata": {
    "collapsed": true
   },
   "outputs": [],
   "source": [
    "import os.path\n",
    "import scipy.io\n",
    "import pandas as pd\n",
    "import numpy as np\n",
    "import re\n",
    "import glob"
   ]
  },
  {
   "cell_type": "code",
   "execution_count": 2,
   "metadata": {
    "collapsed": false
   },
   "outputs": [],
   "source": [
    "Xsim = np.array([[  2.83717594235889647436,  11.63646180704327015576],\n",
    " [ -3.327921891190484871,    10.87319571410462337724],\n",
    " [  5.6266615323741531185,    9.06645711159280409674],\n",
    " [  6.43838210179274383904,  13.62895274146651303226],\n",
    " [ -0.73235675340731809513,   7.0584172849290567342 ],\n",
    " [ 10.95457732821499341469,  20.9159290909855073437 ],\n",
    " [ 10.94582100826051629383,   9.31802058456702120282],\n",
    " [  4.81183361703341194726,  10.56965656760404748127]])"
   ]
  },
  {
   "cell_type": "code",
   "execution_count": 3,
   "metadata": {
    "collapsed": false
   },
   "outputs": [
    {
     "data": {
      "text/plain": [
       "array([[ 179.45107905,   75.51832891],\n",
       "       [  75.51832891,  124.73769156]])"
      ]
     },
     "execution_count": 3,
     "metadata": {},
     "output_type": "execute_result"
    }
   ],
   "source": [
    "# Do PCA analysis\n",
    "mu = np.mean(Xsim,axis=0) # calculate mean\n",
    "w,v = np.linalg.eig(np.dot((Xsim-mu).T,(Xsim-mu))) # calculate eigenvalues of covariance matrix\n",
    "\n",
    "np.dot((Xsim-mu).T,(Xsim-mu))"
   ]
  },
  {
   "cell_type": "code",
   "execution_count": 4,
   "metadata": {
    "collapsed": false
   },
   "outputs": [
    {
     "name": "stdout",
     "output_type": "stream",
     "text": [
      "[[ -1.51866902   1.06885836]\n",
      " [ -7.00440235   3.98394604]\n",
      " [ -0.71056235  -2.63696376]\n",
      " [  2.57378213   0.6323386 ]\n",
      " [ -7.06980803  -0.6296442 ]\n",
      " [ 10.45543239   4.00511681]\n",
      " [  3.78876869  -5.48525481]\n",
      " [ -0.51454146  -0.93839703]]\n"
     ]
    }
   ],
   "source": [
    "print(np.dot(Xsim-mu,v))\n"
   ]
  },
  {
   "cell_type": "code",
   "execution_count": 5,
   "metadata": {
    "collapsed": false
   },
   "outputs": [
    {
     "data": {
      "text/plain": [
       "array([ 0.81871654,  0.5741979 ])"
      ]
     },
     "execution_count": 5,
     "metadata": {},
     "output_type": "execute_result"
    }
   ],
   "source": [
    "v[:,0] # first pca eigenvector"
   ]
  },
  {
   "cell_type": "code",
   "execution_count": 6,
   "metadata": {
    "collapsed": false
   },
   "outputs": [],
   "source": [
    "scores = np.dot((Xsim - mu),v[:,0]) # project into lower dimensional space\n",
    "Xproj = np.outer(scores,v[:,0]) + mu # back project into original data space"
   ]
  },
  {
   "cell_type": "code",
   "execution_count": 7,
   "metadata": {
    "collapsed": false
   },
   "outputs": [
    {
     "data": {
      "text/plain": [
       "array([ -1.51866902,  -7.00440235,  -0.71056235,   2.57378213,\n",
       "        -7.06980803,  10.45543239,   3.78876869,  -0.51454146])"
      ]
     },
     "execution_count": 7,
     "metadata": {},
     "output_type": "execute_result"
    }
   ],
   "source": [
    "scores"
   ]
  },
  {
   "cell_type": "code",
   "execution_count": 8,
   "metadata": {
    "collapsed": false
   },
   "outputs": [
    {
     "data": {
      "text/plain": [
       "array([[  3.45091217,  10.76136979],\n",
       "       [ -1.04034842,   7.61147321],\n",
       "       [  4.11252247,  11.22538295],\n",
       "       [  6.8014696 ,  13.11124667],\n",
       "       [ -1.09389714,   7.57391741],\n",
       "       [ 13.25430701,  17.63687373],\n",
       "       [  7.79619919,  13.80888941],\n",
       "       [  4.27300801,  11.33793773]])"
      ]
     },
     "execution_count": 8,
     "metadata": {},
     "output_type": "execute_result"
    }
   ],
   "source": [
    "Xproj"
   ]
  },
  {
   "cell_type": "code",
   "execution_count": 9,
   "metadata": {
    "collapsed": false
   },
   "outputs": [
    {
     "data": {
      "text/plain": [
       "<matplotlib.text.Text at 0x110e17f60>"
      ]
     },
     "execution_count": 9,
     "metadata": {},
     "output_type": "execute_result"
    },
    {
     "data": {
      "image/png": "[encoded data removed]",
      "text/plain": [
       "<matplotlib.figure.Figure at 0x1104e8b00>"
      ]
     },
     "metadata": {},
     "output_type": "display_data"
    }
   ],
   "source": [
    "import matplotlib.pyplot as plt\n",
    "%matplotlib inline\n",
    "plt.plot(Xsim[:,0],Xsim[:,1],'o')\n",
    "plt.plot(mu[0],mu[1],'go')\n",
    "x = np.linspace(-4,15)\n",
    "y = v[1,0]/v[0,0] * (x - mu[0]) + mu[1]\n",
    "plt.plot(x,y,'k')\n",
    "\n",
    "plt.plot(Xproj[:,0], Xproj[:,1], 'ro')\n",
    "for x, y in zip(Xsim, Xproj):\n",
    "    plt.plot([x[0],y[0]], [x[1],y[1]], 'r-')\n",
    "    \n",
    "plt.axis('equal')\n",
    "plt.title('PCA dimensionality reduction')"
   ]
  },
  {
   "cell_type": "markdown",
   "metadata": {},
   "source": [
    "### Latent variable model of Dimensionality Reduction (P-PCA)\n",
    "\n",
    " - Latent variable $\\mathbf{z} \\in \\mathcal{R}^M \\sim \\mathcal{N}(\\mathbf{0}, \\mathbf{I})$\n",
    " - Data $\\mathbf{x} \\in \\mathcal{R}^D = W \\mathbf{x} + \\mu + \\epsilon$, where $\\epsilon \\sim \n",
    "     \\mathcal{N}(\\mathbf{0}, \\sigma^2 \\mathbf{I})$.\n",
    " - Model parameters are $W \\sim M \\times D$ and $\\sigma^2$\n",
    "     \n",
    "\n",
    "### _A posteriori_ distribution of latent variable\n",
    "\n",
    "$$\n",
    "\\begin{align}\n",
    "\\Pr(\\mathbf{z} \\mid \\mathbf{x}) &= \\mathcal{N}( E[\\mathbf{z}], \\mathrm{Cov}(\\mathbf{z})) \\\\\n",
    "&= \\mathcal{N}(W^T C^{-1} (\\mathbf{x} - \\mu), \\mathbf{I} - W^T C^{-1} W)\n",
    "\\end{align}$$\n",
    "where $C = W W^T + \\sigma^2 \\mathbf{I}$ is the covariance of the marginal $\\Pr(x)$.\n",
    "\n",
    "### EM algorithm for P-PCA\n",
    " 1. Initialize parameters\n",
    " 2. **E-step:** Calculate $\\Pr(\\mathbf{z}_n \\mid \\mathbf{x}_n)$ for each data point. You will need the mean of this\n",
    " distribution, $E[\\mathbf{z}_n]$ and the outer product \n",
    " $E[\\mathbf{z}_n \\, \\mathbf{z}_n^T] = \\mathrm{Cov}(\\mathbf{z}_n) + \n",
    "     E[\\mathbf{z}_n] E[\\mathbf{z}_n]^T$\n",
    " 3. **M-step:** Update $W$ and $\\sigma^2$\n",
    " \n",
    "     $$W_{new} = \\left( \\sum_{n=1}^N (\\mathbf{x}-\\mu) \\; E[\\mathbf{z}_n]^T \\right) \n",
    "     \\left(\\sum_{n=1}^N E[\\mathbf{z} \\, \\mathbf{z}^T] \\right)^{-1}$$\n",
    "     \n",
    "     $$\\sigma_{new}^2 = \\frac{1}{N D} \\mathrm{Tr} \\left( \\sum_{n=1}^N (\\mathbf{x}-\\mu) (\\mathbf{x}-\\mu)^T -\n",
    "     W_{new} \\sum_{n=1}^N E[\\mathbf{z}_n] (\\mathbf{x}-\\mu)^T \\right)$$\n",
    "     \n",
    " 4. Iterate until convergence (or just a bunch of times)"
   ]
  },
  {
   "cell_type": "code",
   "execution_count": 10,
   "metadata": {
    "collapsed": false
   },
   "outputs": [],
   "source": [
    "D = Xsim.shape[1]\n",
    "N = Xsim.shape[0]\n",
    "M = 1\n",
    "# EM for P-PCA\n",
    "\n",
    "# Initialize parameters\n",
    "Wnew = np.random.randn(D,1)\n",
    "sigNew = 0.5\n",
    "\n",
    "# Note that differently from our normal convention, Xsim is an NxD matrix.\n",
    "# That means each observation is a row vector rather than a column vector.\n",
    "# The result is that Ez ends up being a row vector (EzzT is properly square).\n",
    "for i in range(5000):\n",
    "    Wold = Wnew\n",
    "    sigOld = sigNew\n",
    "    C = Wold.dot(Wold.T) + sigOld*np.eye(D) # covariance of P(x)\n",
    "    Ez = Wold.T.dot(np.linalg.inv(C)).dot((Xsim - mu).T) # W^T C^-1 (x - mu)\n",
    "    EzzT = (np.eye(M) - Wold.T.dot(np.linalg.inv(C)).dot(Wold))*N + (Ez.dot(Ez.T)) # Cov(z) + Ez Ez^T\n",
    "    Wnew = ((Xsim - mu).T).dot(Ez.T) # break it into two lines - first product of (x-mu) and Ez\n",
    "    Wnew = Wnew.dot(np.linalg.inv(EzzT)) # then scale down by EzzT\n",
    "    sigNew = 1/(N*D) * np.trace((Xsim - mu).T.dot(Xsim-mu) - Wnew.dot(Ez.dot(Xsim-mu))) # Note that the transposes \n",
    "                                                    # are in the opposite order than above because of dims of Xsim\n",
    "    "
   ]
  },
  {
   "cell_type": "code",
   "execution_count": 11,
   "metadata": {
    "collapsed": false
   },
   "outputs": [
    {
     "data": {
      "text/plain": [
       "array([ 0.81871654,  0.5741979 ])"
      ]
     },
     "execution_count": 11,
     "metadata": {},
     "output_type": "execute_result"
    }
   ],
   "source": [
    "# Now, we want to compare PPCA dimensions to PCA dimensions\n",
    "u1,s1,v1 = np.linalg.svd(Wnew)\n",
    "u1[:,0]"
   ]
  },
  {
   "cell_type": "code",
   "execution_count": 12,
   "metadata": {
    "collapsed": false
   },
   "outputs": [],
   "source": [
    "C = Wnew.dot(Wnew.T) + sigNew*np.eye(D)\n",
    "z_ppca = Wnew.T.dot(np.linalg.inv(C)).dot((Xsim - mu).T)\n",
    "Xproj_ppca = (Wnew.dot(z_ppca)).T + mu"
   ]
  },
  {
   "cell_type": "code",
   "execution_count": 15,
   "metadata": {
    "collapsed": false
   },
   "outputs": [
    {
     "data": {
      "text/plain": [
       "array([[ 0.05982159, -0.03621701],\n",
       "       [-0.03621701,  0.08606098]])"
      ]
     },
     "execution_count": 15,
     "metadata": {},
     "output_type": "execute_result"
    }
   ],
   "source": [
    "np.linalg.inv(C)"
   ]
  },
  {
   "cell_type": "code",
   "execution_count": 13,
   "metadata": {
    "collapsed": false
   },
   "outputs": [
    {
     "data": {
      "text/plain": [
       "<matplotlib.text.Text at 0x11136e390>"
      ]
     },
     "execution_count": 13,
     "metadata": {},
     "output_type": "execute_result"
    },
    {
     "data": {
      "image/png": "[encoded data removed]",
      "text/plain": [
       "<matplotlib.figure.Figure at 0x110e6ab00>"
      ]
     },
     "metadata": {},
     "output_type": "display_data"
    }
   ],
   "source": [
    "plt.plot(Xsim[:,0],Xsim[:,1],'o')\n",
    "plt.plot(mu[0],mu[1],'go')\n",
    "x = np.linspace(-4,15)\n",
    "y = u1[1,0]/u1[0,0] * (x - mu[0]) + mu[1]\n",
    "plt.plot(x,y,'k')\n",
    "\n",
    "plt.plot(Xproj_ppca[:,0], Xproj_ppca[:,1], 'ro')\n",
    "for x, y in zip(Xsim, Xproj_ppca):\n",
    "    plt.plot([x[0],y[0]], [x[1],y[1]], 'r-')\n",
    "    \n",
    "plt.axis('equal')\n",
    "plt.title('P-PCA')\n"
   ]
  },
  {
   "cell_type": "markdown",
   "metadata": {
    "collapsed": false
   },
   "source": [
    "### a. The lower dimensional space found by PCA and P-PCA are the same. So why are the lines in P-PCA not orthogonal as they are in the PCA case?"
   ]
  },
  {
   "cell_type": "markdown",
   "metadata": {},
   "source": [
    "### Answer: the PC directions of P-PCA, W, are not orthonormal and ordered based on the amount of variance explained; while the PC directions of PCA, Um, have these attributions."
   ]
  },
  {
   "cell_type": "markdown",
   "metadata": {},
   "source": [
    "### Latent variable model of Dimensionality Reduction (Factor Analysis)\n",
    "\n",
    " - Latent variable $\\mathbf{z} \\in \\mathcal{R}^M \\sim \\mathcal{N}(\\mathbf{0}, \\mathbf{I})$\n",
    " - Data $\\mathbf{x} \\in \\mathcal{R}^D = W \\mathbf{x} + \\mu + \\epsilon$, where $\\epsilon \\sim \n",
    "     \\mathcal{N}(\\mathbf{0}, \\Psi)$.\n",
    " - Model parameters are $W \\sim M \\times D$ and $\\Psi$\n",
    "     \n",
    "The difference between P-PCA and FA is that in FA, the observation noise is a diagonal matrix, $\\Psi$, rather\n",
    "than a diagonal matrix with constant value, $\\sigma^2 \\mathbf{I}$.\n",
    "\n",
    "### _A posteriori_ distribution of latent variable\n",
    "\n",
    "$$\n",
    "\\begin{align}\n",
    "\\Pr(\\mathbf{z} \\mid \\mathbf{x}) &= \\mathcal{N}( E[\\mathbf{z}], \\mathrm{Cov}(\\mathbf{z})) \\\\\n",
    "&= \\mathcal{N}(W^T C^{-1} (\\mathbf{x} - \\mu), \\mathbf{I} - W^T C^{-1} W)\n",
    "\\end{align}$$\n",
    "where $C = W W^T + \\Psi$ is the covariance of the marginal $\\Pr(x)$. **(Note that this is different than P-PCA!)**\n",
    "\n",
    "### EM algorithm for P-PCA\n",
    " 1. Initialize parameters\n",
    " 2. **E-step:** Calculate $\\Pr(\\mathbf{z}_n \\mid \\mathbf{x}_n)$ for each data point. You will need the mean of this\n",
    " distribution, $E[\\mathbf{z}_n]$ and the outer product \n",
    " $E[\\mathbf{z}_n \\, \\mathbf{z}_n^T] = \\mathrm{Cov}(\\mathbf{z}_n) + \n",
    "     E[\\mathbf{z}_n] E[\\mathbf{z}_n]^T$\n",
    " 3. **M-step:** Update $W$ and $\\sigma^2$\n",
    " \n",
    "     $$W_{new} = \\left( \\sum_{n=1}^N (\\mathbf{x}-\\mu) \\; E[\\mathbf{z}_n]^T \\right) \n",
    "     \\left(\\sum_{n=1}^N E[\\mathbf{z} \\, \\mathbf{z}^T] \\right)^{-1}$$\n",
    "     \n",
    "     $$\\Psi_{new} = \\frac{1}{N} \\mathrm{diag} \\left( \\sum_{n=1}^N (\\mathbf{x}-\\mu) (\\mathbf{x}-\\mu)^T -\n",
    "     W_{new} \\sum_{n=1}^N E[\\mathbf{z}_n] (\\mathbf{x}-\\mu)^T \\right)$$\n",
    "     \n",
    "     where \"$\\mathrm{diag}()$\" means to zero the off-diagonal elements.\n",
    "     \n",
    " 4. Iterate until convergence (or just a bunch of times)"
   ]
  },
  {
   "cell_type": "code",
   "execution_count": 25,
   "metadata": {
    "collapsed": false
   },
   "outputs": [],
   "source": [
    "D = Xsim.shape[1]\n",
    "N = Xsim.shape[0]\n",
    "M = 1\n",
    "# EM for \n",
    "\n",
    "# Initialize parameters\n",
    "Wnew = np.random.randn(D,1)\n",
    "PsiNew = np.diag(np.arange(D)+1)\n",
    "\n",
    "# Note that differently from our normal convention, Xsim is an NxD matrix.\n",
    "# That means each observation is a row vector rather than a column vector.\n",
    "# The result is that Ez ends up being a row vector (EzzT is properly square).\n",
    "for i in range(5000):\n",
    "    Wold = Wnew\n",
    "    PsiOld = PsiNew\n",
    "    C = Wold.dot(Wold.T) + PsiOld # covariance of P(x)\n",
    "    Ez = Wold.T.dot(np.linalg.inv(C)).dot((Xsim - mu).T) # W^T C^-1 (x - mu)\n",
    "    EzzT = (np.eye(M) - Wold.T.dot(np.linalg.inv(C)).dot(Wold))*N + (Ez.dot(Ez.T)) # Cov(z) + Ez Ez^T\n",
    "    Wnew = ((Xsim - mu).T).dot(Ez.T) # break it into two lines - first product of (x-mu) and Ez\n",
    "    Wnew = Wnew.dot(np.linalg.inv(EzzT)) # then scale down by EzzT\n",
    "    PsiNew = 1/N * np.diag(np.diag((Xsim - mu).T.dot(Xsim-mu) - Wnew.dot(Ez.dot(Xsim-mu)))) # Note that the transposes \n",
    "                                                    # are in the opposite order than above because of dims of Xsim\n",
    "    "
   ]
  },
  {
   "cell_type": "code",
   "execution_count": 26,
   "metadata": {
    "collapsed": false
   },
   "outputs": [
    {
     "data": {
      "text/plain": [
       "array([ 0.77264353,  0.63484012])"
      ]
     },
     "execution_count": 26,
     "metadata": {},
     "output_type": "execute_result"
    }
   ],
   "source": [
    "u1,s1,v1 = np.linalg.svd(Wnew)\n",
    "u1[:,0]"
   ]
  },
  {
   "cell_type": "code",
   "execution_count": 27,
   "metadata": {
    "collapsed": true
   },
   "outputs": [],
   "source": [
    "C = Wnew.dot(Wnew.T) + PsiNew\n",
    "z_fa = Wnew.T.dot(np.linalg.inv(C)).dot((Xsim - mu).T)\n",
    "Xproj_fa = (Wnew.dot(z_fa)).T + mu"
   ]
  },
  {
   "cell_type": "code",
   "execution_count": 28,
   "metadata": {
    "collapsed": false
   },
   "outputs": [
    {
     "data": {
      "text/plain": [
       "<matplotlib.text.Text at 0x110796a90>"
      ]
     },
     "execution_count": 28,
     "metadata": {},
     "output_type": "execute_result"
    },
    {
     "data": {
      "image/png": "[encoded data removed]",
      "text/plain": [
       "<matplotlib.figure.Figure at 0x110610e10>"
      ]
     },
     "metadata": {},
     "output_type": "display_data"
    }
   ],
   "source": [
    "plt.plot(Xsim[:,0],Xsim[:,1],'o')\n",
    "plt.plot(mu[0],mu[1],'go')\n",
    "x = np.linspace(-4,15)\n",
    "y = u1[1,0]/u1[0,0] * (x - mu[0]) + mu[1]\n",
    "plt.plot(x,y,'k')\n",
    "\n",
    "plt.plot(Xproj_fa[:,0], Xproj_fa[:,1], 'ro')\n",
    "for x, y in zip(Xsim, Xproj_fa):\n",
    "    plt.plot([x[0],y[0]], [x[1],y[1]], 'r-')\n",
    "    \n",
    "plt.axis('equal')\n",
    "plt.title('Factor Analysis')"
   ]
  },
  {
   "cell_type": "markdown",
   "metadata": {
    "collapsed": true
   },
   "source": [
    "### b. Note that the lower dimensional space found by FA will pass through the mean but will not be the same as in PCA/P-PCA. Why is it different?"
   ]
  },
  {
   "cell_type": "markdown",
   "metadata": {},
   "source": [
    "### Answer: For FA:  $x \\sim \\mathcal{N}(\\mu, WW^T+\\Psi)$. where $\\mu$ is same with PCA/P-PCA, but it has a different $\\Psi$, which decides FA has a different lower dimensianl space"
   ]
  },
  {
   "cell_type": "code",
   "execution_count": null,
   "metadata": {
    "collapsed": true
   },
   "outputs": [],
   "source": []
  }
 ],
 "metadata": {
  "anaconda-cloud": {},
  "kernelspec": {
   "display_name": "Python [py35]",
   "language": "python",
   "name": "Python [py35]"
  },
  "language_info": {
   "codemirror_mode": {
    "name": "ipython",
    "version": 3
   },
   "file_extension": ".py",
   "mimetype": "text/x-python",
   "name": "python",
   "nbconvert_exporter": "python",
   "pygments_lexer": "ipython3",
   "version": "3.5.2"
  }
 },
 "nbformat": 4,
 "nbformat_minor": 0
}
